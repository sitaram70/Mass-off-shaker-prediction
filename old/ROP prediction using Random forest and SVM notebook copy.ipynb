{
 "cells": [
  {
   "cell_type": "markdown",
   "metadata": {},
   "source": [
    "__Import well data and data analysis python libraries__ "
   ]
  },
  {
   "cell_type": "code",
   "execution_count": 146,
   "metadata": {},
   "outputs": [],
   "source": [
    "import numpy as np\n",
    "import pandas as pd \n",
    "import matplotlib.pyplot as plt\n",
    "import seaborn as sns \n",
    "%matplotlib inline\n"
   ]
  },
  {
   "cell_type": "code",
   "execution_count": 148,
   "metadata": {},
   "outputs": [],
   "source": [
    "welldf=pd.read_csv('Well_58-32.csv')"
   ]
  },
  {
   "cell_type": "code",
   "execution_count": 156,
   "metadata": {
    "scrolled": true
   },
   "outputs": [
    {
     "data": {
      "text/html": [
       "<div>\n",
       "<style scoped>\n",
       "    .dataframe tbody tr th:only-of-type {\n",
       "        vertical-align: middle;\n",
       "    }\n",
       "\n",
       "    .dataframe tbody tr th {\n",
       "        vertical-align: top;\n",
       "    }\n",
       "\n",
       "    .dataframe thead th {\n",
       "        text-align: right;\n",
       "    }\n",
       "</style>\n",
       "<table border=\"1\" class=\"dataframe\">\n",
       "  <thead>\n",
       "    <tr style=\"text-align: right;\">\n",
       "      <th></th>\n",
       "      <th>Depth(ft)</th>\n",
       "      <th>Depth(m)</th>\n",
       "      <th>ROP(1 ft)</th>\n",
       "      <th>ROP(1 m)</th>\n",
       "      <th>weight on bit (k-lbs)</th>\n",
       "      <th>weight on bit (kg)</th>\n",
       "      <th>Temp Out( degF)</th>\n",
       "      <th>Temp Out( degC)</th>\n",
       "      <th>Temp In(degF)</th>\n",
       "      <th>Temp In(degC)</th>\n",
       "      <th>...</th>\n",
       "      <th>Surface Torque (KPa)</th>\n",
       "      <th>Rotary Speed (rpm)</th>\n",
       "      <th>Flow In (gal/min)</th>\n",
       "      <th>Flow In(liters/min)</th>\n",
       "      <th>Flow Out %</th>\n",
       "      <th>WH Pressure (psi)</th>\n",
       "      <th>WH Pressure (KPa)</th>\n",
       "      <th>H2S Floor</th>\n",
       "      <th>H2S Cellar</th>\n",
       "      <th>H2S Pits</th>\n",
       "    </tr>\n",
       "  </thead>\n",
       "  <tbody>\n",
       "    <tr>\n",
       "      <th>0</th>\n",
       "      <td>85.18</td>\n",
       "      <td>25.96</td>\n",
       "      <td>56.80</td>\n",
       "      <td>17.31</td>\n",
       "      <td>0.0</td>\n",
       "      <td>0.0</td>\n",
       "      <td>93.49</td>\n",
       "      <td>34.16</td>\n",
       "      <td>90.87</td>\n",
       "      <td>32.71</td>\n",
       "      <td>...</td>\n",
       "      <td>61.57</td>\n",
       "      <td>151.09</td>\n",
       "      <td>1109.58</td>\n",
       "      <td>4200.22</td>\n",
       "      <td>101.61</td>\n",
       "      <td>-1230.69</td>\n",
       "      <td>-8485.61</td>\n",
       "      <td>-0.01</td>\n",
       "      <td>-0.03</td>\n",
       "      <td>0.31</td>\n",
       "    </tr>\n",
       "    <tr>\n",
       "      <th>1</th>\n",
       "      <td>86.18</td>\n",
       "      <td>26.27</td>\n",
       "      <td>61.14</td>\n",
       "      <td>18.63</td>\n",
       "      <td>0.0</td>\n",
       "      <td>0.0</td>\n",
       "      <td>93.52</td>\n",
       "      <td>34.18</td>\n",
       "      <td>90.83</td>\n",
       "      <td>32.68</td>\n",
       "      <td>...</td>\n",
       "      <td>61.57</td>\n",
       "      <td>151.09</td>\n",
       "      <td>1108.36</td>\n",
       "      <td>4195.60</td>\n",
       "      <td>101.70</td>\n",
       "      <td>-1230.69</td>\n",
       "      <td>-8485.61</td>\n",
       "      <td>-0.01</td>\n",
       "      <td>-0.04</td>\n",
       "      <td>0.31</td>\n",
       "    </tr>\n",
       "    <tr>\n",
       "      <th>2</th>\n",
       "      <td>87.23</td>\n",
       "      <td>26.59</td>\n",
       "      <td>18.58</td>\n",
       "      <td>5.66</td>\n",
       "      <td>0.0</td>\n",
       "      <td>0.0</td>\n",
       "      <td>94.25</td>\n",
       "      <td>34.58</td>\n",
       "      <td>90.91</td>\n",
       "      <td>32.73</td>\n",
       "      <td>...</td>\n",
       "      <td>62.12</td>\n",
       "      <td>61.54</td>\n",
       "      <td>1102.87</td>\n",
       "      <td>4174.82</td>\n",
       "      <td>96.81</td>\n",
       "      <td>-1230.69</td>\n",
       "      <td>-8485.61</td>\n",
       "      <td>-0.01</td>\n",
       "      <td>-0.03</td>\n",
       "      <td>0.30</td>\n",
       "    </tr>\n",
       "    <tr>\n",
       "      <th>3</th>\n",
       "      <td>88.26</td>\n",
       "      <td>26.90</td>\n",
       "      <td>38.29</td>\n",
       "      <td>11.67</td>\n",
       "      <td>0.0</td>\n",
       "      <td>0.0</td>\n",
       "      <td>94.44</td>\n",
       "      <td>34.69</td>\n",
       "      <td>91.14</td>\n",
       "      <td>32.86</td>\n",
       "      <td>...</td>\n",
       "      <td>61.85</td>\n",
       "      <td>60.23</td>\n",
       "      <td>1101.04</td>\n",
       "      <td>4167.89</td>\n",
       "      <td>96.67</td>\n",
       "      <td>-1230.69</td>\n",
       "      <td>-8485.61</td>\n",
       "      <td>0.00</td>\n",
       "      <td>-0.03</td>\n",
       "      <td>0.31</td>\n",
       "    </tr>\n",
       "    <tr>\n",
       "      <th>4</th>\n",
       "      <td>89.36</td>\n",
       "      <td>27.24</td>\n",
       "      <td>394.38</td>\n",
       "      <td>120.20</td>\n",
       "      <td>0.0</td>\n",
       "      <td>0.0</td>\n",
       "      <td>94.48</td>\n",
       "      <td>34.71</td>\n",
       "      <td>91.18</td>\n",
       "      <td>32.88</td>\n",
       "      <td>...</td>\n",
       "      <td>61.85</td>\n",
       "      <td>61.75</td>\n",
       "      <td>1102.46</td>\n",
       "      <td>4173.26</td>\n",
       "      <td>96.63</td>\n",
       "      <td>-1230.69</td>\n",
       "      <td>-8485.61</td>\n",
       "      <td>-0.02</td>\n",
       "      <td>-0.02</td>\n",
       "      <td>0.31</td>\n",
       "    </tr>\n",
       "  </tbody>\n",
       "</table>\n",
       "<p>5 rows × 27 columns</p>\n",
       "</div>"
      ],
      "text/plain": [
       "   Depth(ft)  Depth(m)  ROP(1 ft)  ROP(1 m)  weight on bit (k-lbs)  \\\n",
       "0      85.18     25.96      56.80     17.31                    0.0   \n",
       "1      86.18     26.27      61.14     18.63                    0.0   \n",
       "2      87.23     26.59      18.58      5.66                    0.0   \n",
       "3      88.26     26.90      38.29     11.67                    0.0   \n",
       "4      89.36     27.24     394.38    120.20                    0.0   \n",
       "\n",
       "   weight on bit (kg)  Temp Out( degF)  Temp Out( degC)  Temp In(degF)  \\\n",
       "0                 0.0            93.49            34.16          90.87   \n",
       "1                 0.0            93.52            34.18          90.83   \n",
       "2                 0.0            94.25            34.58          90.91   \n",
       "3                 0.0            94.44            34.69          91.14   \n",
       "4                 0.0            94.48            34.71          91.18   \n",
       "\n",
       "   Temp In(degC)  ...  Surface Torque (KPa)  Rotary Speed (rpm)  \\\n",
       "0          32.71  ...                 61.57              151.09   \n",
       "1          32.68  ...                 61.57              151.09   \n",
       "2          32.73  ...                 62.12               61.54   \n",
       "3          32.86  ...                 61.85               60.23   \n",
       "4          32.88  ...                 61.85               61.75   \n",
       "\n",
       "   Flow In (gal/min)  Flow In(liters/min)  Flow Out %  WH Pressure (psi)  \\\n",
       "0            1109.58              4200.22      101.61           -1230.69   \n",
       "1            1108.36              4195.60      101.70           -1230.69   \n",
       "2            1102.87              4174.82       96.81           -1230.69   \n",
       "3            1101.04              4167.89       96.67           -1230.69   \n",
       "4            1102.46              4173.26       96.63           -1230.69   \n",
       "\n",
       "   WH Pressure (KPa)  H2S Floor  H2S Cellar  H2S Pits  \n",
       "0           -8485.61      -0.01       -0.03      0.31  \n",
       "1           -8485.61      -0.01       -0.04      0.31  \n",
       "2           -8485.61      -0.01       -0.03      0.30  \n",
       "3           -8485.61       0.00       -0.03      0.31  \n",
       "4           -8485.61      -0.02       -0.02      0.31  \n",
       "\n",
       "[5 rows x 27 columns]"
      ]
     },
     "execution_count": 156,
     "metadata": {},
     "output_type": "execute_result"
    }
   ],
   "source": [
    "welldf.head()"
   ]
  },
  {
   "cell_type": "code",
   "execution_count": 152,
   "metadata": {},
   "outputs": [
    {
     "data": {
      "text/html": [
       "<div>\n",
       "<style scoped>\n",
       "    .dataframe tbody tr th:only-of-type {\n",
       "        vertical-align: middle;\n",
       "    }\n",
       "\n",
       "    .dataframe tbody tr th {\n",
       "        vertical-align: top;\n",
       "    }\n",
       "\n",
       "    .dataframe thead th {\n",
       "        text-align: right;\n",
       "    }\n",
       "</style>\n",
       "<table border=\"1\" class=\"dataframe\">\n",
       "  <thead>\n",
       "    <tr style=\"text-align: right;\">\n",
       "      <th></th>\n",
       "      <th>count</th>\n",
       "      <th>mean</th>\n",
       "      <th>std</th>\n",
       "      <th>min</th>\n",
       "      <th>25%</th>\n",
       "      <th>50%</th>\n",
       "      <th>75%</th>\n",
       "      <th>max</th>\n",
       "    </tr>\n",
       "  </thead>\n",
       "  <tbody>\n",
       "    <tr>\n",
       "      <th>Depth(ft)</th>\n",
       "      <td>7311.0</td>\n",
       "      <td>3835.043935</td>\n",
       "      <td>2147.503980</td>\n",
       "      <td>85.18</td>\n",
       "      <td>1970.395</td>\n",
       "      <td>3851.85</td>\n",
       "      <td>5691.585</td>\n",
       "      <td>7536.25</td>\n",
       "    </tr>\n",
       "    <tr>\n",
       "      <th>Depth(m)</th>\n",
       "      <td>7311.0</td>\n",
       "      <td>1168.864378</td>\n",
       "      <td>654.527243</td>\n",
       "      <td>25.96</td>\n",
       "      <td>600.545</td>\n",
       "      <td>1173.99</td>\n",
       "      <td>1734.710</td>\n",
       "      <td>2296.94</td>\n",
       "    </tr>\n",
       "    <tr>\n",
       "      <th>ROP(1 ft)</th>\n",
       "      <td>7311.0</td>\n",
       "      <td>42.010324</td>\n",
       "      <td>75.921118</td>\n",
       "      <td>0.00</td>\n",
       "      <td>11.400</td>\n",
       "      <td>17.99</td>\n",
       "      <td>44.295</td>\n",
       "      <td>2977.91</td>\n",
       "    </tr>\n",
       "    <tr>\n",
       "      <th>ROP(1 m)</th>\n",
       "      <td>7311.0</td>\n",
       "      <td>12.804158</td>\n",
       "      <td>23.139621</td>\n",
       "      <td>0.00</td>\n",
       "      <td>3.470</td>\n",
       "      <td>5.48</td>\n",
       "      <td>13.500</td>\n",
       "      <td>907.62</td>\n",
       "    </tr>\n",
       "    <tr>\n",
       "      <th>weight on bit (k-lbs)</th>\n",
       "      <td>7311.0</td>\n",
       "      <td>23.116699</td>\n",
       "      <td>9.119495</td>\n",
       "      <td>0.00</td>\n",
       "      <td>18.310</td>\n",
       "      <td>23.83</td>\n",
       "      <td>29.680</td>\n",
       "      <td>47.05</td>\n",
       "    </tr>\n",
       "    <tr>\n",
       "      <th>weight on bit (kg)</th>\n",
       "      <td>7311.0</td>\n",
       "      <td>10483.764002</td>\n",
       "      <td>4135.825227</td>\n",
       "      <td>0.00</td>\n",
       "      <td>8303.850</td>\n",
       "      <td>10807.26</td>\n",
       "      <td>13460.320</td>\n",
       "      <td>21337.87</td>\n",
       "    </tr>\n",
       "    <tr>\n",
       "      <th>Temp Out( degF)</th>\n",
       "      <td>7311.0</td>\n",
       "      <td>126.059506</td>\n",
       "      <td>12.259879</td>\n",
       "      <td>84.07</td>\n",
       "      <td>116.130</td>\n",
       "      <td>124.86</td>\n",
       "      <td>136.490</td>\n",
       "      <td>151.70</td>\n",
       "    </tr>\n",
       "    <tr>\n",
       "      <th>Temp Out( degC)</th>\n",
       "      <td>7311.0</td>\n",
       "      <td>52.255297</td>\n",
       "      <td>6.811023</td>\n",
       "      <td>28.93</td>\n",
       "      <td>46.740</td>\n",
       "      <td>51.59</td>\n",
       "      <td>58.050</td>\n",
       "      <td>66.50</td>\n",
       "    </tr>\n",
       "    <tr>\n",
       "      <th>Temp In(degF)</th>\n",
       "      <td>7311.0</td>\n",
       "      <td>118.315593</td>\n",
       "      <td>11.933137</td>\n",
       "      <td>85.00</td>\n",
       "      <td>108.850</td>\n",
       "      <td>117.22</td>\n",
       "      <td>126.860</td>\n",
       "      <td>146.31</td>\n",
       "    </tr>\n",
       "    <tr>\n",
       "      <th>Temp In(degC)</th>\n",
       "      <td>7311.0</td>\n",
       "      <td>47.953090</td>\n",
       "      <td>6.629486</td>\n",
       "      <td>29.44</td>\n",
       "      <td>42.695</td>\n",
       "      <td>47.34</td>\n",
       "      <td>52.700</td>\n",
       "      <td>63.51</td>\n",
       "    </tr>\n",
       "    <tr>\n",
       "      <th>Pit Total (bbls)</th>\n",
       "      <td>7311.0</td>\n",
       "      <td>236.929204</td>\n",
       "      <td>18.261640</td>\n",
       "      <td>170.91</td>\n",
       "      <td>224.535</td>\n",
       "      <td>238.11</td>\n",
       "      <td>249.590</td>\n",
       "      <td>279.88</td>\n",
       "    </tr>\n",
       "    <tr>\n",
       "      <th>Pit Total (m3)</th>\n",
       "      <td>7311.0</td>\n",
       "      <td>37.668701</td>\n",
       "      <td>2.903400</td>\n",
       "      <td>27.17</td>\n",
       "      <td>35.700</td>\n",
       "      <td>37.86</td>\n",
       "      <td>39.680</td>\n",
       "      <td>44.50</td>\n",
       "    </tr>\n",
       "    <tr>\n",
       "      <th>Pump Press (psi)</th>\n",
       "      <td>7311.0</td>\n",
       "      <td>1266.634496</td>\n",
       "      <td>490.554609</td>\n",
       "      <td>19.94</td>\n",
       "      <td>665.590</td>\n",
       "      <td>1432.56</td>\n",
       "      <td>1669.680</td>\n",
       "      <td>2200.43</td>\n",
       "    </tr>\n",
       "    <tr>\n",
       "      <th>Pump Press (KPa)</th>\n",
       "      <td>7311.0</td>\n",
       "      <td>8733.444965</td>\n",
       "      <td>3382.374016</td>\n",
       "      <td>137.49</td>\n",
       "      <td>4589.240</td>\n",
       "      <td>9877.50</td>\n",
       "      <td>11512.440</td>\n",
       "      <td>15171.96</td>\n",
       "    </tr>\n",
       "    <tr>\n",
       "      <th>Hookload (k-lbs)</th>\n",
       "      <td>7311.0</td>\n",
       "      <td>81.285593</td>\n",
       "      <td>26.503832</td>\n",
       "      <td>27.27</td>\n",
       "      <td>54.720</td>\n",
       "      <td>80.14</td>\n",
       "      <td>105.630</td>\n",
       "      <td>148.93</td>\n",
       "    </tr>\n",
       "    <tr>\n",
       "      <th>Hookload (kg)</th>\n",
       "      <td>7311.0</td>\n",
       "      <td>36864.214556</td>\n",
       "      <td>12019.878472</td>\n",
       "      <td>12367.35</td>\n",
       "      <td>24816.330</td>\n",
       "      <td>36344.67</td>\n",
       "      <td>47904.760</td>\n",
       "      <td>67541.95</td>\n",
       "    </tr>\n",
       "    <tr>\n",
       "      <th>Surface Torque (psi)</th>\n",
       "      <td>7311.0</td>\n",
       "      <td>130.983649</td>\n",
       "      <td>48.706651</td>\n",
       "      <td>0.00</td>\n",
       "      <td>117.000</td>\n",
       "      <td>140.31</td>\n",
       "      <td>157.280</td>\n",
       "      <td>273.71</td>\n",
       "    </tr>\n",
       "    <tr>\n",
       "      <th>Surface Torque (KPa)</th>\n",
       "      <td>7311.0</td>\n",
       "      <td>903.132323</td>\n",
       "      <td>335.832421</td>\n",
       "      <td>0.00</td>\n",
       "      <td>806.715</td>\n",
       "      <td>967.44</td>\n",
       "      <td>1084.450</td>\n",
       "      <td>1887.23</td>\n",
       "    </tr>\n",
       "    <tr>\n",
       "      <th>Rotary Speed (rpm)</th>\n",
       "      <td>7311.0</td>\n",
       "      <td>54.947292</td>\n",
       "      <td>25.947654</td>\n",
       "      <td>0.00</td>\n",
       "      <td>38.090</td>\n",
       "      <td>50.38</td>\n",
       "      <td>75.965</td>\n",
       "      <td>271.58</td>\n",
       "    </tr>\n",
       "    <tr>\n",
       "      <th>Flow In (gal/min)</th>\n",
       "      <td>7311.0</td>\n",
       "      <td>716.254127</td>\n",
       "      <td>141.784179</td>\n",
       "      <td>0.00</td>\n",
       "      <td>620.260</td>\n",
       "      <td>700.21</td>\n",
       "      <td>824.610</td>\n",
       "      <td>3317.51</td>\n",
       "    </tr>\n",
       "    <tr>\n",
       "      <th>Flow In(liters/min)</th>\n",
       "      <td>7311.0</td>\n",
       "      <td>2711.315497</td>\n",
       "      <td>536.711275</td>\n",
       "      <td>0.00</td>\n",
       "      <td>2347.940</td>\n",
       "      <td>2650.58</td>\n",
       "      <td>3121.485</td>\n",
       "      <td>12558.14</td>\n",
       "    </tr>\n",
       "    <tr>\n",
       "      <th>Flow Out %</th>\n",
       "      <td>7311.0</td>\n",
       "      <td>79.692834</td>\n",
       "      <td>11.909399</td>\n",
       "      <td>0.69</td>\n",
       "      <td>72.650</td>\n",
       "      <td>80.71</td>\n",
       "      <td>88.845</td>\n",
       "      <td>111.21</td>\n",
       "    </tr>\n",
       "    <tr>\n",
       "      <th>WH Pressure (psi)</th>\n",
       "      <td>7311.0</td>\n",
       "      <td>-35.760875</td>\n",
       "      <td>222.669489</td>\n",
       "      <td>-1231.83</td>\n",
       "      <td>2.920</td>\n",
       "      <td>5.94</td>\n",
       "      <td>8.260</td>\n",
       "      <td>17.41</td>\n",
       "    </tr>\n",
       "    <tr>\n",
       "      <th>WH Pressure (KPa)</th>\n",
       "      <td>7311.0</td>\n",
       "      <td>-246.571280</td>\n",
       "      <td>1535.306539</td>\n",
       "      <td>-8493.47</td>\n",
       "      <td>20.130</td>\n",
       "      <td>40.96</td>\n",
       "      <td>56.950</td>\n",
       "      <td>120.04</td>\n",
       "    </tr>\n",
       "    <tr>\n",
       "      <th>H2S Floor</th>\n",
       "      <td>7311.0</td>\n",
       "      <td>-0.027372</td>\n",
       "      <td>0.042453</td>\n",
       "      <td>-0.10</td>\n",
       "      <td>-0.070</td>\n",
       "      <td>-0.01</td>\n",
       "      <td>0.000</td>\n",
       "      <td>0.78</td>\n",
       "    </tr>\n",
       "    <tr>\n",
       "      <th>H2S Cellar</th>\n",
       "      <td>7311.0</td>\n",
       "      <td>0.004303</td>\n",
       "      <td>0.025282</td>\n",
       "      <td>-0.08</td>\n",
       "      <td>-0.010</td>\n",
       "      <td>0.00</td>\n",
       "      <td>0.020</td>\n",
       "      <td>0.07</td>\n",
       "    </tr>\n",
       "    <tr>\n",
       "      <th>H2S Pits</th>\n",
       "      <td>7311.0</td>\n",
       "      <td>0.148833</td>\n",
       "      <td>0.115290</td>\n",
       "      <td>-0.06</td>\n",
       "      <td>0.060</td>\n",
       "      <td>0.14</td>\n",
       "      <td>0.220</td>\n",
       "      <td>0.72</td>\n",
       "    </tr>\n",
       "  </tbody>\n",
       "</table>\n",
       "</div>"
      ],
      "text/plain": [
       "                        count          mean           std       min  \\\n",
       "Depth(ft)              7311.0   3835.043935   2147.503980     85.18   \n",
       "Depth(m)               7311.0   1168.864378    654.527243     25.96   \n",
       "ROP(1 ft)              7311.0     42.010324     75.921118      0.00   \n",
       "ROP(1 m)               7311.0     12.804158     23.139621      0.00   \n",
       "weight on bit (k-lbs)  7311.0     23.116699      9.119495      0.00   \n",
       "weight on bit (kg)     7311.0  10483.764002   4135.825227      0.00   \n",
       "Temp Out( degF)        7311.0    126.059506     12.259879     84.07   \n",
       "Temp Out( degC)        7311.0     52.255297      6.811023     28.93   \n",
       "Temp In(degF)          7311.0    118.315593     11.933137     85.00   \n",
       "Temp In(degC)          7311.0     47.953090      6.629486     29.44   \n",
       "Pit Total (bbls)       7311.0    236.929204     18.261640    170.91   \n",
       "Pit Total (m3)         7311.0     37.668701      2.903400     27.17   \n",
       "Pump Press (psi)       7311.0   1266.634496    490.554609     19.94   \n",
       "Pump Press (KPa)       7311.0   8733.444965   3382.374016    137.49   \n",
       "Hookload (k-lbs)       7311.0     81.285593     26.503832     27.27   \n",
       "Hookload (kg)          7311.0  36864.214556  12019.878472  12367.35   \n",
       "Surface Torque (psi)   7311.0    130.983649     48.706651      0.00   \n",
       "Surface Torque (KPa)   7311.0    903.132323    335.832421      0.00   \n",
       "Rotary Speed (rpm)     7311.0     54.947292     25.947654      0.00   \n",
       "Flow In (gal/min)      7311.0    716.254127    141.784179      0.00   \n",
       "Flow In(liters/min)    7311.0   2711.315497    536.711275      0.00   \n",
       "Flow Out %             7311.0     79.692834     11.909399      0.69   \n",
       "WH Pressure (psi)      7311.0    -35.760875    222.669489  -1231.83   \n",
       "WH Pressure (KPa)      7311.0   -246.571280   1535.306539  -8493.47   \n",
       "H2S Floor              7311.0     -0.027372      0.042453     -0.10   \n",
       "H2S Cellar             7311.0      0.004303      0.025282     -0.08   \n",
       "H2S Pits               7311.0      0.148833      0.115290     -0.06   \n",
       "\n",
       "                             25%       50%        75%       max  \n",
       "Depth(ft)               1970.395   3851.85   5691.585   7536.25  \n",
       "Depth(m)                 600.545   1173.99   1734.710   2296.94  \n",
       "ROP(1 ft)                 11.400     17.99     44.295   2977.91  \n",
       "ROP(1 m)                   3.470      5.48     13.500    907.62  \n",
       "weight on bit (k-lbs)     18.310     23.83     29.680     47.05  \n",
       "weight on bit (kg)      8303.850  10807.26  13460.320  21337.87  \n",
       "Temp Out( degF)          116.130    124.86    136.490    151.70  \n",
       "Temp Out( degC)           46.740     51.59     58.050     66.50  \n",
       "Temp In(degF)            108.850    117.22    126.860    146.31  \n",
       "Temp In(degC)             42.695     47.34     52.700     63.51  \n",
       "Pit Total (bbls)         224.535    238.11    249.590    279.88  \n",
       "Pit Total (m3)            35.700     37.86     39.680     44.50  \n",
       "Pump Press (psi)         665.590   1432.56   1669.680   2200.43  \n",
       "Pump Press (KPa)        4589.240   9877.50  11512.440  15171.96  \n",
       "Hookload (k-lbs)          54.720     80.14    105.630    148.93  \n",
       "Hookload (kg)          24816.330  36344.67  47904.760  67541.95  \n",
       "Surface Torque (psi)     117.000    140.31    157.280    273.71  \n",
       "Surface Torque (KPa)     806.715    967.44   1084.450   1887.23  \n",
       "Rotary Speed (rpm)        38.090     50.38     75.965    271.58  \n",
       "Flow In (gal/min)        620.260    700.21    824.610   3317.51  \n",
       "Flow In(liters/min)     2347.940   2650.58   3121.485  12558.14  \n",
       "Flow Out %                72.650     80.71     88.845    111.21  \n",
       "WH Pressure (psi)          2.920      5.94      8.260     17.41  \n",
       "WH Pressure (KPa)         20.130     40.96     56.950    120.04  \n",
       "H2S Floor                 -0.070     -0.01      0.000      0.78  \n",
       "H2S Cellar                -0.010      0.00      0.020      0.07  \n",
       "H2S Pits                   0.060      0.14      0.220      0.72  "
      ]
     },
     "execution_count": 152,
     "metadata": {},
     "output_type": "execute_result"
    }
   ],
   "source": [
    "welldf.describe().transpose()"
   ]
  },
  {
   "cell_type": "code",
   "execution_count": null,
   "metadata": {},
   "outputs": [],
   "source": [
    "welldf.describe().transpose().to_csv('decription.csv', sep=',')"
   ]
  },
  {
   "cell_type": "code",
   "execution_count": null,
   "metadata": {},
   "outputs": [],
   "source": [
    "welldf.columns"
   ]
  },
  {
   "cell_type": "code",
   "execution_count": null,
   "metadata": {},
   "outputs": [],
   "source": [
    "df=welldf[['ROP(1 m)','Depth(m)','weight on bit (kg)','Rotary Speed (rpm)','Pump Press (KPa)','Temp In(degC)',\n",
    "        'Flow In(liters/min)','Flow Out %']]"
   ]
  },
  {
   "cell_type": "markdown",
   "metadata": {},
   "source": [
    "__Exploratory data analysis__"
   ]
  },
  {
   "cell_type": "code",
   "execution_count": null,
   "metadata": {},
   "outputs": [],
   "source": [
    "#cheking for missing values \n",
    "#luckily in this drilling dataset there is no missing values\n",
    "df.isnull().sum()"
   ]
  },
  {
   "cell_type": "code",
   "execution_count": null,
   "metadata": {},
   "outputs": [],
   "source": [
    "plt.figure(figsize=(15,5))\n",
    "sns.heatmap(data=df,cmap='magma')"
   ]
  },
  {
   "cell_type": "code",
   "execution_count": null,
   "metadata": {
    "scrolled": true
   },
   "outputs": [],
   "source": [
    "#cheking for corrolation between features and outliers\n",
    "sns.pairplot(df)"
   ]
  },
  {
   "cell_type": "code",
   "execution_count": null,
   "metadata": {},
   "outputs": [],
   "source": [
    "plt.figure(figsize=(15,5))\n",
    "sns.heatmap(df.corr())"
   ]
  },
  {
   "cell_type": "code",
   "execution_count": null,
   "metadata": {},
   "outputs": [],
   "source": [
    "#which are the most corrolated features with our target variable ROP\n",
    "df.corr()['ROP(1 m)'].sort_values"
   ]
  },
  {
   "cell_type": "code",
   "execution_count": null,
   "metadata": {},
   "outputs": [],
   "source": [
    "#Outlier removal \n",
    "plt.figure(figsize=(20,8))\n",
    "sns.boxplot(df['ROP(1 m)'])"
   ]
  },
  {
   "cell_type": "code",
   "execution_count": null,
   "metadata": {},
   "outputs": [],
   "source": [
    "df[df['ROP(1 m)'] > 800]"
   ]
  },
  {
   "cell_type": "code",
   "execution_count": null,
   "metadata": {},
   "outputs": [],
   "source": [
    "df=df.drop(index=259,axis=0)"
   ]
  },
  {
   "cell_type": "code",
   "execution_count": null,
   "metadata": {},
   "outputs": [],
   "source": [
    "sns.boxplot(df['Rotary Speed (rpm)'])"
   ]
  },
  {
   "cell_type": "code",
   "execution_count": null,
   "metadata": {},
   "outputs": [],
   "source": [
    "df[df['Rotary Speed (rpm)'] > 200]"
   ]
  },
  {
   "cell_type": "code",
   "execution_count": null,
   "metadata": {},
   "outputs": [],
   "source": [
    "df=df.drop(index=[245,246,247,248,249,252],axis=0)"
   ]
  },
  {
   "cell_type": "code",
   "execution_count": null,
   "metadata": {},
   "outputs": [],
   "source": [
    "sns.boxplot(df['Flow In(liters/min)'])"
   ]
  },
  {
   "cell_type": "code",
   "execution_count": null,
   "metadata": {},
   "outputs": [],
   "source": [
    "df[df['Flow In(liters/min)'] > 7000]"
   ]
  },
  {
   "cell_type": "code",
   "execution_count": null,
   "metadata": {},
   "outputs": [],
   "source": [
    "df=df.drop(index=[2462,4152],axis=0)"
   ]
  },
  {
   "cell_type": "code",
   "execution_count": null,
   "metadata": {},
   "outputs": [],
   "source": [
    "df[df['Flow In(liters/min)'] > 5000]"
   ]
  },
  {
   "cell_type": "code",
   "execution_count": null,
   "metadata": {},
   "outputs": [],
   "source": [
    "sns.boxplot(df['Flow Out %'])"
   ]
  },
  {
   "cell_type": "code",
   "execution_count": null,
   "metadata": {},
   "outputs": [],
   "source": [
    "df[df['Flow Out %'] < 10 ]"
   ]
  },
  {
   "cell_type": "code",
   "execution_count": null,
   "metadata": {},
   "outputs": [],
   "source": [
    "df=df.drop(index=[1720,1721,2998,3260,3261,3262,3411,3572,4561],axis=0)"
   ]
  },
  {
   "cell_type": "code",
   "execution_count": null,
   "metadata": {},
   "outputs": [],
   "source": [
    "#checking the data after outlier removal\n",
    "sns.pairplot(df)"
   ]
  },
  {
   "cell_type": "code",
   "execution_count": null,
   "metadata": {},
   "outputs": [],
   "source": [
    "df.describe()"
   ]
  },
  {
   "cell_type": "code",
   "execution_count": null,
   "metadata": {},
   "outputs": [],
   "source": [
    "#saving backup after outlier removal\n",
    "df.to_csv('well_without_outlier.csv',index=False)"
   ]
  },
  {
   "cell_type": "markdown",
   "metadata": {},
   "source": [
    "__import Scikit-learn libraries__"
   ]
  },
  {
   "cell_type": "code",
   "execution_count": null,
   "metadata": {},
   "outputs": [],
   "source": [
    "from sklearn.ensemble import RandomForestRegressor \n",
    "from sklearn.svm import SVR\n",
    "from sklearn.model_selection import train_test_split\n",
    "from sklearn.metrics import mean_squared_error,r2_score,mean_absolute_error\n",
    "from sklearn.model_selection import RandomizedSearchCV, GridSearchCV\n",
    "from sklearn.preprocessing import MinMaxScaler\n"
   ]
  },
  {
   "cell_type": "code",
   "execution_count": null,
   "metadata": {},
   "outputs": [],
   "source": [
    "#create our depandent and independant variables\n",
    "y=df['ROP(1 m)']\n",
    "X=df.drop(['ROP(1 m)'],axis=1)\n"
   ]
  },
  {
   "cell_type": "code",
   "execution_count": null,
   "metadata": {},
   "outputs": [],
   "source": [
    "#check the dimensions\n",
    "print('the dataframe dimension is :',df.shape)\n",
    "print('Y dimension is :',y.shape)\n",
    "print('X  dimension is :',X.shape)\n"
   ]
  },
  {
   "cell_type": "code",
   "execution_count": null,
   "metadata": {},
   "outputs": [],
   "source": [
    "X_train, X_test, y_train, y_test = train_test_split(X, y,test_size=0.3)"
   ]
  },
  {
   "cell_type": "code",
   "execution_count": null,
   "metadata": {},
   "outputs": [],
   "source": [
    "rfran=RandomForestRegressor()"
   ]
  },
  {
   "cell_type": "code",
   "execution_count": null,
   "metadata": {},
   "outputs": [],
   "source": [
    "#random try of random forest on the training set\n",
    "rfran.fit(X_train,y_train)"
   ]
  },
  {
   "cell_type": "code",
   "execution_count": null,
   "metadata": {},
   "outputs": [],
   "source": [
    "predict=rfran.predict(X_test)"
   ]
  },
  {
   "cell_type": "code",
   "execution_count": null,
   "metadata": {},
   "outputs": [],
   "source": [
    "mse=mean_squared_error(y_test,predict)\n",
    "print('the test set mean squared error is {}'.format(mse))"
   ]
  },
  {
   "cell_type": "code",
   "execution_count": null,
   "metadata": {},
   "outputs": [],
   "source": [
    "importance=pd.Series(data=rfran.feature_importances_,index=X.columns)"
   ]
  },
  {
   "cell_type": "code",
   "execution_count": null,
   "metadata": {},
   "outputs": [],
   "source": [
    "sorted_importance=importance.sort_values(ascending=True)"
   ]
  },
  {
   "cell_type": "code",
   "execution_count": null,
   "metadata": {},
   "outputs": [],
   "source": [
    "#feature importance based on giny impurity\n",
    "plt.figure(figsize=(10,5))\n",
    "sorted_importance.plot(kind='barh',color='red')\n",
    "plt.title('Feature importance') \n",
    "plt.xlabel('importance score') \n",
    "plt.ylabel('Feature name')"
   ]
  },
  {
   "cell_type": "code",
   "execution_count": null,
   "metadata": {},
   "outputs": [],
   "source": [
    "cumsortimp=np.cumsum(sorted_importance.sort_values(ascending=False))"
   ]
  },
  {
   "cell_type": "code",
   "execution_count": null,
   "metadata": {},
   "outputs": [],
   "source": [
    "plt.figure(figsize=(13,5))\n",
    "plt.plot(cumsortimp.index,cumsortimp[:],color='red')\n",
    "plt.hlines(y=0.95,xmin=cumsortimp.index[0],xmax=cumsortimp.index[-1],linestyles='dashed')\n",
    "plt.title('Cumulative Feature importance') \n",
    "plt.xlabel('Cumulative importance score') \n",
    "plt.ylabel('Feature name')"
   ]
  },
  {
   "cell_type": "code",
   "execution_count": null,
   "metadata": {},
   "outputs": [],
   "source": [
    "#Based on my drilling engineering knowledge ,weight on bit and pump pressure are important drilling parameters ,\n",
    "#eventhough they are shown least importance based on giniy impurity , but we can remove flowout feature  \n",
    "important_features=cumsortimp.drop(labels='Flow Out %')"
   ]
  },
  {
   "cell_type": "code",
   "execution_count": null,
   "metadata": {},
   "outputs": [],
   "source": [
    "important_X_train = X_train[important_features.index]\n",
    "important_X_test=X_test[important_features.index]\n",
    "print('when considering only important features the training data set dimension is {}'.format(important_X_train.shape))\n",
    "print('when considering only important features the test dataset dimension is {}'.format(important_X_test.shape))"
   ]
  },
  {
   "cell_type": "markdown",
   "metadata": {},
   "source": [
    "__Scaling training data__"
   ]
  },
  {
   "cell_type": "code",
   "execution_count": null,
   "metadata": {},
   "outputs": [],
   "source": [
    "#we apply min-max normalization for the features\n",
    "Xscale=MinMaxScaler().fit(important_X_train)\n",
    "scaled_Xtrain=Xscale.transform(important_X_train)\n",
    "scaled_Xtest=Xscale.transform(important_X_test)"
   ]
  },
  {
   "cell_type": "markdown",
   "metadata": {},
   "source": [
    "__Random forest regression__"
   ]
  },
  {
   "cell_type": "code",
   "execution_count": null,
   "metadata": {},
   "outputs": [],
   "source": [
    "rf=RandomForestRegressor()"
   ]
  },
  {
   "cell_type": "code",
   "execution_count": null,
   "metadata": {},
   "outputs": [],
   "source": [
    "rfparam={'n_estimators':[300,400],'max_depth':[5,10,None]}"
   ]
  },
  {
   "cell_type": "code",
   "execution_count": null,
   "metadata": {},
   "outputs": [],
   "source": [
    "gridrf=GridSearchCV(estimator=rf,param_grid=rfparam,cv=5,verbose=3,scoring='neg_mean_absolute_error')"
   ]
  },
  {
   "cell_type": "code",
   "execution_count": null,
   "metadata": {},
   "outputs": [],
   "source": [
    "#use only important features selected by Gini impurity\n",
    "#hyperparameter tuning using gridsearchCV\n",
    "gridrf.fit(scaled_Xtrain,y_train)"
   ]
  },
  {
   "cell_type": "code",
   "execution_count": null,
   "metadata": {},
   "outputs": [],
   "source": [
    "gridrf.best_estimator_"
   ]
  },
  {
   "cell_type": "code",
   "execution_count": null,
   "metadata": {},
   "outputs": [],
   "source": [
    "best_rf=gridrf.best_estimator_"
   ]
  },
  {
   "cell_type": "code",
   "execution_count": null,
   "metadata": {},
   "outputs": [],
   "source": [
    "predictedrf=best_rf.predict(scaled_Xtest)"
   ]
  },
  {
   "cell_type": "code",
   "execution_count": null,
   "metadata": {},
   "outputs": [],
   "source": [
    "print('root mean squared error is {}'.format(np.sqrt(mean_squared_error(y_test,predictedrf))))\n",
    "print('Mean absolute error is {}'.format(mean_absolute_error(y_test,predictedrf)))\n",
    "print('R2 score is {}'.format(r2_score(y_test,predictedrf)))"
   ]
  },
  {
   "cell_type": "code",
   "execution_count": null,
   "metadata": {},
   "outputs": [],
   "source": [
    "plt.figure(figsize=(13,6))\n",
    "plt.title('Mean absolute error is {} and R2 score is {}'.format(mean_absolute_error(y_test,predictedrf),r2_score(y_test,predictedrf)))\n",
    "plt.plot(np.arange(0,300,1),np.arange(0,300,1),color='green', linestyle='dashed',label='Predicted R.O.P = True R.O.P')\n",
    "sns.scatterplot(x=y_test,y=predictedrf)\n",
    "plt.xlabel('True R.O.P')\n",
    "plt.ylabel('Predicted')"
   ]
  },
  {
   "cell_type": "code",
   "execution_count": null,
   "metadata": {},
   "outputs": [],
   "source": [
    "fig,ax=plt.subplots(figsize=(15,25))\n",
    "ax.plot(y,X['Depth(m)'].values.reshape(-1,1),'r',label='ROP')\n",
    "ax.scatter(predictedrf,X_test['Depth(m)'].values.reshape(-1,1),label='predicted ROP')\n",
    "ay=plt.gca()\n",
    "ay.set_ylim(ay.get_ylim()[::-1])\n",
    "plt.ylabel('Depth (ft)')\n",
    "plt.xlabel('Rate of penetration (m/hr)')\n",
    "plt.title('Rate of penetration prediction');\n",
    "plt.legend(loc=\"best\")\n",
    "depth=[depth for depth in range(200,2400,200) ]\n",
    "for i in range(len(depth)):\n",
    "    plt.axhline(depth[i],color='black' )\n",
    "    \n",
    " #plt.savefig('Random forest resgression.png') \n",
    "\n"
   ]
  },
  {
   "cell_type": "markdown",
   "metadata": {},
   "source": [
    "__support Vector machine regression__"
   ]
  },
  {
   "cell_type": "code",
   "execution_count": null,
   "metadata": {},
   "outputs": [],
   "source": [
    "# we try support vector machine regression\n",
    "Sv_regressor=SVR()"
   ]
  },
  {
   "cell_type": "code",
   "execution_count": null,
   "metadata": {},
   "outputs": [],
   "source": [
    "svrparam={'gamma':['scale','auto'],'C':[0.01,0.1,1,100,100],'epsilon':[0.1,0.2,0.3]}"
   ]
  },
  {
   "cell_type": "code",
   "execution_count": null,
   "metadata": {},
   "outputs": [],
   "source": [
    "gridsvr=GridSearchCV(estimator=Sv_regressor,param_grid=svrparam,cv=5,verbose=2,scoring='neg_mean_absolute_error')"
   ]
  },
  {
   "cell_type": "code",
   "execution_count": null,
   "metadata": {},
   "outputs": [],
   "source": [
    "gridsvr.fit(scaled_Xtrain,y_train)"
   ]
  },
  {
   "cell_type": "code",
   "execution_count": null,
   "metadata": {},
   "outputs": [],
   "source": [
    "best_Svr=gridsvr.best_estimator_"
   ]
  },
  {
   "cell_type": "code",
   "execution_count": null,
   "metadata": {},
   "outputs": [],
   "source": [
    "predictedsvr=best_Svr.predict(scaled_Xtest)"
   ]
  },
  {
   "cell_type": "code",
   "execution_count": null,
   "metadata": {},
   "outputs": [],
   "source": [
    "print('root mean squared error is {}'.format(np.sqrt(mean_squared_error(y_test,predictedsvr))))\n",
    "print('Mean absolute error is {}'.format(mean_absolute_error(y_test,predictedsvr)))\n",
    "print('R2 score is {}'.format(r2_score(y_test,predictedsvr)))\n"
   ]
  },
  {
   "cell_type": "code",
   "execution_count": null,
   "metadata": {},
   "outputs": [],
   "source": [
    "fig,ax=plt.subplots(figsize=(20,150))\n",
    "ax.plot(y,X['Depth(m)'].values.reshape(-1,1),'r',label='ROP')\n",
    "ax.scatter(predictedsvr,X_test['Depth(m)'].values.reshape(-1,1),label='predicted ROP')\n",
    "ay=plt.gca()\n",
    "ay.set_ylim(ay.get_ylim()[::-1])\n",
    "plt.ylabel('Depth (ft)')\n",
    "plt.xlabel('Rate of penetration (m/hr)')\n",
    "plt.title('Rate of penetration prediction');\n",
    "plt.legend(loc=\"best\")\n",
    "depth=[depth for depth in range(200,2400,200) ]\n",
    "for i in range(len(depth)):\n",
    "    plt.axhline(depth[i],color='black' )\n",
    "    \n",
    "#plt.savefig('SVR resgression.png')    \n",
    "\n"
   ]
  },
  {
   "cell_type": "markdown",
   "metadata": {},
   "source": [
    "__Final conclusion : \n",
    "Each of these previous regression models made was optimzed at it's best hyperparameters ,Randomforest regressor proved to be better in terms of performance, thus we need to validate this model to another on other well in the same field to see closer it's reliability ,the next step of my work is move deep learning and build artificial neural network__.\n"
   ]
  },
  {
   "cell_type": "code",
   "execution_count": null,
   "metadata": {},
   "outputs": [],
   "source": []
  }
 ],
 "metadata": {
  "kernelspec": {
   "display_name": "Python (tf-env)",
   "language": "python",
   "name": "tf-env"
  },
  "language_info": {
   "codemirror_mode": {
    "name": "ipython",
    "version": 3
   },
   "file_extension": ".py",
   "mimetype": "text/x-python",
   "name": "python",
   "nbconvert_exporter": "python",
   "pygments_lexer": "ipython3",
   "version": "3.10.13"
  }
 },
 "nbformat": 4,
 "nbformat_minor": 4
}
